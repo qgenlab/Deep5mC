{
 "cells": [
  {
   "cell_type": "markdown",
   "id": "858654d5-369b-49f9-96dc-f5ae8ec0c892",
   "metadata": {},
   "source": [
    "# Testing Example Usage"
   ]
  },
  {
   "cell_type": "code",
   "execution_count": 1,
   "id": "f10a4e9b-69ab-40ad-97df-e2654d6dd107",
   "metadata": {},
   "outputs": [
    {
     "name": "stdout",
     "output_type": "stream",
     "text": [
      "\n",
      "----------------------------------------------------------------------------------------------------\n",
      "\n",
      "########################\n",
      "## Model Architecture ##\n",
      "########################\n",
      "\n",
      "    hidden layer size = 1024\n",
      "    number of attention heads = 16\n",
      "    number of layers in TransformerEncoder module = 16\n",
      "    learning rate = 1e-07\n",
      "    dropout rate = 20.0%\n",
      "\n",
      "#####################\n",
      "## Other Parameters ##\n",
      "#####################\n",
      "\n",
      "    epochs = 1\n",
      "    batch size = 16\n",
      "    number of batches per backpropagation algorithm call = 32\n",
      "    \n",
      "    positive class threshold = 80.0%\n",
      "    negative class threshold = 20.0%\n",
      "    unmethylated data percent = 50.0%\n",
      "    \n",
      "    batches per statistic calculation = 10\n",
      "    number of bases per side of methylated base = 1280\n",
      "    cpu / gpu used = cuda:7\n",
      "    model file = pretrained_model.pt\n",
      "    input files = ['test_input.fasta']\n",
      "    output directory = output/\n",
      "    number of columns in progress bars = 200\n",
      "    \n",
      "----------------------------------------------------------------------------------------------------\n",
      "\n",
      "Loading data set...\n",
      "100%|████████████████████████████████████████████████████████████████████████████████████████████████████████████████████████████████████████████████████████████████████| 5/5 [00:00<00:00, 874.58it/s]\n",
      "Done loading.\n",
      "  0%|                                                                                                                                                                             | 0/5 [00:00<?, ?it/s]\n",
      "---------------------------------------------------------------------------\n",
      "test_input.fasta:\n",
      "\n",
      "Loss = 0.024957552083333348\n",
      "Accuracy = 0.8\n",
      "Pearson = 0.06319657792506754\n",
      "MCC = 0.0\n",
      "ROC AUC = 0.85\n",
      "TN, TP, FN, FP = 4, 4, 1, 1\n",
      "Sensitivity = 0.8  \n",
      "Specificity = 0.8\n",
      "\n",
      "Confusion Matrix:\n",
      "Predicted(x) vs. True(y)\n",
      "- [[0.00, 0.00, 0.00]\n",
      "?  [0.00, 0.00, 1.00]\n",
      "+  [0.00, 0.00, 1.00]]\n",
      "    -     ?     +\n",
      "    \n",
      "Last results:\n",
      "Expected: tensor([0.8487, 0.8700, 0.8700, 0.8487, 0.7867], dtype=torch.float64)\n",
      "Output:   tensor([0.8423, 0.8418, 0.8418, 0.8418, 0.8418], dtype=torch.float16)\n",
      "---------------------------------------------------------------------------\n"
     ]
    }
   ],
   "source": [
    "! python src/main.py test \\\n",
    "    test_input.fasta \\\n",
    "    output/ \\\n",
    "    --model pretrained_model.pt \\\n",
    "    -d 7"
   ]
  },
  {
   "cell_type": "markdown",
   "id": "7071b4c0-c1f2-49e0-8a5f-d55ba6b7c12d",
   "metadata": {},
   "source": [
    "# Training Deep5mC"
   ]
  },
  {
   "cell_type": "code",
   "execution_count": 2,
   "id": "82944aa6-7336-4938-a2a0-4687601ed4fb",
   "metadata": {},
   "outputs": [
    {
     "name": "stdout",
     "output_type": "stream",
     "text": [
      "\n",
      "----------------------------------------------------------------------------------------------------\n",
      "\n",
      "########################\n",
      "## Model Architecture ##\n",
      "########################\n",
      "\n",
      "    hidden layer size = 1024\n",
      "    number of attention heads = 16\n",
      "    number of layers in TransformerEncoder module = 16\n",
      "    learning rate = 1e-07\n",
      "    dropout rate = 20.0%\n",
      "\n",
      "#####################\n",
      "## Other Parameters ##\n",
      "#####################\n",
      "\n",
      "    epochs = 1\n",
      "    batch size = 16\n",
      "    number of batches per backpropagation algorithm call = 32\n",
      "    \n",
      "    positive class threshold = 80.0%\n",
      "    negative class threshold = 20.0%\n",
      "    unmethylated data percent = 0.0%\n",
      "    \n",
      "    batches per statistic calculation = 10\n",
      "    number of bases per side of methylated base = 1280\n",
      "    cpu / gpu used = cuda:7\n",
      "    model file = None\n",
      "    input files = ['test_input.fasta']\n",
      "    output directory = output/\n",
      "    number of columns in progress bars = 200\n",
      "    \n",
      "----------------------------------------------------------------------------------------------------\n",
      "\n",
      "Loading data set...\n",
      "100%|████████████████████████████████████████████████████████████████████████████████████████████████████████████████████████████████████████████████████████████████████| 5/5 [00:00<00:00, 903.59it/s]\n",
      "Done loading.\n",
      "  0%|                                                                                                                                                                             | 0/5 [00:18<?, ?it/s]\n",
      "---------------------------------------------------------------------------\n",
      "Epoch 1/1, test_input.fasta:\n",
      "\n",
      "Loss = 0.472387890625\n",
      "Accuracy = 0.2\n",
      "Pearson = 0.023560528152056615\n",
      "MCC = 0.0\n",
      "ROC AUC = 0.4\n",
      "TN, TP, FN, FP = 1, 1, 4, 4\n",
      "Sensitivity = 0.2  \n",
      "Specificity = 0.2\n",
      "\n",
      "Confusion Matrix:\n",
      "Predicted(x) vs. True(y)\n",
      "- [[0.00, 0.00, 0.00]\n",
      "?  [0.00, 1.00, 0.00]\n",
      "+  [0.00, 1.00, 0.00]]\n",
      "    -     ?     +\n",
      "    \n",
      "Last results:\n",
      "Expected: tensor([0.8700, 0.8487, 0.8700, 0.8487, 0.7867], dtype=torch.float64)\n",
      "Output:   tensor([0.3752, 0.3540, 0.4541, 0.2805, 0.3982], dtype=torch.float16)\n",
      "---------------------------------------------------------------------------\n"
     ]
    }
   ],
   "source": [
    "! python src/main.py train \\\n",
    "    test_input.fasta \\\n",
    "    output/ \\\n",
    "    -d 7 \\\n",
    "    --epochs=1 \\\n",
    "    --percent_unmethylated=0"
   ]
  }
 ],
 "metadata": {
  "kernelspec": {
   "display_name": "Python 3 (ipykernel)",
   "language": "python",
   "name": "python3"
  },
  "language_info": {
   "codemirror_mode": {
    "name": "ipython",
    "version": 3
   },
   "file_extension": ".py",
   "mimetype": "text/x-python",
   "name": "python",
   "nbconvert_exporter": "python",
   "pygments_lexer": "ipython3",
   "version": "3.12.0"
  }
 },
 "nbformat": 4,
 "nbformat_minor": 5
}
